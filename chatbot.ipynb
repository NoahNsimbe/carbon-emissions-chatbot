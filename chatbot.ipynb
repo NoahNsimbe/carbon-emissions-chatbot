{
 "cells": [
  {
   "cell_type": "code",
   "execution_count": 16,
   "id": "817febfc-1180-4fae-a69c-65c84745809b",
   "metadata": {},
   "outputs": [
    {
     "name": "stdout",
     "output_type": "stream",
     "text": [
      "Requirement already satisfied: pip in ./venv/lib/python3.8/site-packages (24.0)\n",
      "Requirement already satisfied: langchain in ./venv/lib/python3.8/site-packages (0.1.15)\n",
      "Requirement already satisfied: openai in ./venv/lib/python3.8/site-packages (1.17.0)\n",
      "Requirement already satisfied: psycopg2-binary in ./venv/lib/python3.8/site-packages (2.9.9)\n",
      "Requirement already satisfied: langchain_experimental in ./venv/lib/python3.8/site-packages (0.0.57)\n",
      "Requirement already satisfied: langchain-openai in ./venv/lib/python3.8/site-packages (0.1.2)\n",
      "Requirement already satisfied: google-generativeai in ./venv/lib/python3.8/site-packages (0.1.0rc1)\n",
      "Requirement already satisfied: PyYAML>=5.3 in ./venv/lib/python3.8/site-packages (from langchain) (6.0.1)\n",
      "Requirement already satisfied: SQLAlchemy<3,>=1.4 in ./venv/lib/python3.8/site-packages (from langchain) (2.0.29)\n",
      "Requirement already satisfied: aiohttp<4.0.0,>=3.8.3 in ./venv/lib/python3.8/site-packages (from langchain) (3.9.3)\n",
      "Requirement already satisfied: async-timeout<5.0.0,>=4.0.0 in ./venv/lib/python3.8/site-packages (from langchain) (4.0.3)\n",
      "Requirement already satisfied: dataclasses-json<0.7,>=0.5.7 in ./venv/lib/python3.8/site-packages (from langchain) (0.6.4)\n",
      "Requirement already satisfied: jsonpatch<2.0,>=1.33 in ./venv/lib/python3.8/site-packages (from langchain) (1.33)\n",
      "Requirement already satisfied: langchain-community<0.1,>=0.0.32 in ./venv/lib/python3.8/site-packages (from langchain) (0.0.32)\n",
      "Requirement already satisfied: langchain-core<0.2.0,>=0.1.41 in ./venv/lib/python3.8/site-packages (from langchain) (0.1.41)\n",
      "Requirement already satisfied: langchain-text-splitters<0.1,>=0.0.1 in ./venv/lib/python3.8/site-packages (from langchain) (0.0.1)\n",
      "Requirement already satisfied: langsmith<0.2.0,>=0.1.17 in ./venv/lib/python3.8/site-packages (from langchain) (0.1.45)\n",
      "Requirement already satisfied: numpy<2,>=1 in ./venv/lib/python3.8/site-packages (from langchain) (1.24.4)\n",
      "Requirement already satisfied: pydantic<3,>=1 in ./venv/lib/python3.8/site-packages (from langchain) (2.6.4)\n",
      "Requirement already satisfied: requests<3,>=2 in ./venv/lib/python3.8/site-packages (from langchain) (2.31.0)\n",
      "Requirement already satisfied: tenacity<9.0.0,>=8.1.0 in ./venv/lib/python3.8/site-packages (from langchain) (8.2.3)\n",
      "Requirement already satisfied: anyio<5,>=3.5.0 in ./venv/lib/python3.8/site-packages (from openai) (4.3.0)\n",
      "Requirement already satisfied: distro<2,>=1.7.0 in ./venv/lib/python3.8/site-packages (from openai) (1.9.0)\n",
      "Requirement already satisfied: httpx<1,>=0.23.0 in ./venv/lib/python3.8/site-packages (from openai) (0.27.0)\n",
      "Requirement already satisfied: sniffio in ./venv/lib/python3.8/site-packages (from openai) (1.3.1)\n",
      "Requirement already satisfied: tqdm>4 in ./venv/lib/python3.8/site-packages (from openai) (4.66.2)\n",
      "Requirement already satisfied: typing-extensions<5,>=4.7 in ./venv/lib/python3.8/site-packages (from openai) (4.11.0)\n",
      "Requirement already satisfied: tiktoken<1,>=0.5.2 in ./venv/lib/python3.8/site-packages (from langchain-openai) (0.6.0)\n",
      "Requirement already satisfied: google-ai-generativelanguage==0.1.0 in ./venv/lib/python3.8/site-packages (from google-generativeai) (0.1.0)\n",
      "Requirement already satisfied: google-api-core!=2.0.*,!=2.1.*,!=2.10.*,!=2.2.*,!=2.3.*,!=2.4.*,!=2.5.*,!=2.6.*,!=2.7.*,!=2.8.*,!=2.9.*,<3.0.0dev,>=1.34.0 in ./venv/lib/python3.8/site-packages (from google-api-core[grpc]!=2.0.*,!=2.1.*,!=2.10.*,!=2.2.*,!=2.3.*,!=2.4.*,!=2.5.*,!=2.6.*,!=2.7.*,!=2.8.*,!=2.9.*,<3.0.0dev,>=1.34.0->google-ai-generativelanguage==0.1.0->google-generativeai) (2.18.0)\n",
      "Requirement already satisfied: proto-plus<2.0.0dev,>=1.22.0 in ./venv/lib/python3.8/site-packages (from google-ai-generativelanguage==0.1.0->google-generativeai) (1.23.0)\n",
      "Requirement already satisfied: protobuf!=3.20.0,!=3.20.1,!=4.21.0,!=4.21.1,!=4.21.2,!=4.21.3,!=4.21.4,!=4.21.5,<5.0.0dev,>=3.19.5 in ./venv/lib/python3.8/site-packages (from google-ai-generativelanguage==0.1.0->google-generativeai) (4.25.3)\n",
      "Requirement already satisfied: aiosignal>=1.1.2 in ./venv/lib/python3.8/site-packages (from aiohttp<4.0.0,>=3.8.3->langchain) (1.3.1)\n",
      "Requirement already satisfied: attrs>=17.3.0 in ./venv/lib/python3.8/site-packages (from aiohttp<4.0.0,>=3.8.3->langchain) (23.2.0)\n",
      "Requirement already satisfied: frozenlist>=1.1.1 in ./venv/lib/python3.8/site-packages (from aiohttp<4.0.0,>=3.8.3->langchain) (1.4.1)\n",
      "Requirement already satisfied: multidict<7.0,>=4.5 in ./venv/lib/python3.8/site-packages (from aiohttp<4.0.0,>=3.8.3->langchain) (6.0.5)\n",
      "Requirement already satisfied: yarl<2.0,>=1.0 in ./venv/lib/python3.8/site-packages (from aiohttp<4.0.0,>=3.8.3->langchain) (1.9.4)\n",
      "Requirement already satisfied: idna>=2.8 in ./venv/lib/python3.8/site-packages (from anyio<5,>=3.5.0->openai) (3.7)\n",
      "Requirement already satisfied: exceptiongroup>=1.0.2 in ./venv/lib/python3.8/site-packages (from anyio<5,>=3.5.0->openai) (1.2.0)\n",
      "Requirement already satisfied: marshmallow<4.0.0,>=3.18.0 in ./venv/lib/python3.8/site-packages (from dataclasses-json<0.7,>=0.5.7->langchain) (3.21.1)\n",
      "Requirement already satisfied: typing-inspect<1,>=0.4.0 in ./venv/lib/python3.8/site-packages (from dataclasses-json<0.7,>=0.5.7->langchain) (0.9.0)\n",
      "Requirement already satisfied: certifi in ./venv/lib/python3.8/site-packages (from httpx<1,>=0.23.0->openai) (2024.2.2)\n",
      "Requirement already satisfied: httpcore==1.* in ./venv/lib/python3.8/site-packages (from httpx<1,>=0.23.0->openai) (1.0.5)\n",
      "Requirement already satisfied: h11<0.15,>=0.13 in ./venv/lib/python3.8/site-packages (from httpcore==1.*->httpx<1,>=0.23.0->openai) (0.14.0)\n",
      "Requirement already satisfied: jsonpointer>=1.9 in ./venv/lib/python3.8/site-packages (from jsonpatch<2.0,>=1.33->langchain) (2.4)\n",
      "Requirement already satisfied: packaging<24.0,>=23.2 in ./venv/lib/python3.8/site-packages (from langchain-core<0.2.0,>=0.1.41->langchain) (23.2)\n",
      "Requirement already satisfied: orjson<4.0.0,>=3.9.14 in ./venv/lib/python3.8/site-packages (from langsmith<0.2.0,>=0.1.17->langchain) (3.10.0)\n",
      "Requirement already satisfied: annotated-types>=0.4.0 in ./venv/lib/python3.8/site-packages (from pydantic<3,>=1->langchain) (0.6.0)\n",
      "Requirement already satisfied: pydantic-core==2.16.3 in ./venv/lib/python3.8/site-packages (from pydantic<3,>=1->langchain) (2.16.3)\n",
      "Requirement already satisfied: charset-normalizer<4,>=2 in ./venv/lib/python3.8/site-packages (from requests<3,>=2->langchain) (3.3.2)\n",
      "Requirement already satisfied: urllib3<3,>=1.21.1 in ./venv/lib/python3.8/site-packages (from requests<3,>=2->langchain) (2.2.1)\n",
      "Requirement already satisfied: greenlet!=0.4.17 in ./venv/lib/python3.8/site-packages (from SQLAlchemy<3,>=1.4->langchain) (3.0.3)\n",
      "Requirement already satisfied: regex>=2022.1.18 in ./venv/lib/python3.8/site-packages (from tiktoken<1,>=0.5.2->langchain-openai) (2023.12.25)\n",
      "Requirement already satisfied: googleapis-common-protos<2.0.dev0,>=1.56.2 in ./venv/lib/python3.8/site-packages (from google-api-core!=2.0.*,!=2.1.*,!=2.10.*,!=2.2.*,!=2.3.*,!=2.4.*,!=2.5.*,!=2.6.*,!=2.7.*,!=2.8.*,!=2.9.*,<3.0.0dev,>=1.34.0->google-api-core[grpc]!=2.0.*,!=2.1.*,!=2.10.*,!=2.2.*,!=2.3.*,!=2.4.*,!=2.5.*,!=2.6.*,!=2.7.*,!=2.8.*,!=2.9.*,<3.0.0dev,>=1.34.0->google-ai-generativelanguage==0.1.0->google-generativeai) (1.63.0)\n",
      "Requirement already satisfied: google-auth<3.0.dev0,>=2.14.1 in ./venv/lib/python3.8/site-packages (from google-api-core!=2.0.*,!=2.1.*,!=2.10.*,!=2.2.*,!=2.3.*,!=2.4.*,!=2.5.*,!=2.6.*,!=2.7.*,!=2.8.*,!=2.9.*,<3.0.0dev,>=1.34.0->google-api-core[grpc]!=2.0.*,!=2.1.*,!=2.10.*,!=2.2.*,!=2.3.*,!=2.4.*,!=2.5.*,!=2.6.*,!=2.7.*,!=2.8.*,!=2.9.*,<3.0.0dev,>=1.34.0->google-ai-generativelanguage==0.1.0->google-generativeai) (2.29.0)\n",
      "Requirement already satisfied: grpcio<2.0dev,>=1.33.2 in ./venv/lib/python3.8/site-packages (from google-api-core[grpc]!=2.0.*,!=2.1.*,!=2.10.*,!=2.2.*,!=2.3.*,!=2.4.*,!=2.5.*,!=2.6.*,!=2.7.*,!=2.8.*,!=2.9.*,<3.0.0dev,>=1.34.0->google-ai-generativelanguage==0.1.0->google-generativeai) (1.62.1)\n",
      "Requirement already satisfied: grpcio-status<2.0.dev0,>=1.33.2 in ./venv/lib/python3.8/site-packages (from google-api-core[grpc]!=2.0.*,!=2.1.*,!=2.10.*,!=2.2.*,!=2.3.*,!=2.4.*,!=2.5.*,!=2.6.*,!=2.7.*,!=2.8.*,!=2.9.*,<3.0.0dev,>=1.34.0->google-ai-generativelanguage==0.1.0->google-generativeai) (1.62.1)\n",
      "Requirement already satisfied: mypy-extensions>=0.3.0 in ./venv/lib/python3.8/site-packages (from typing-inspect<1,>=0.4.0->dataclasses-json<0.7,>=0.5.7->langchain) (1.0.0)\n",
      "Requirement already satisfied: cachetools<6.0,>=2.0.0 in ./venv/lib/python3.8/site-packages (from google-auth<3.0.dev0,>=2.14.1->google-api-core!=2.0.*,!=2.1.*,!=2.10.*,!=2.2.*,!=2.3.*,!=2.4.*,!=2.5.*,!=2.6.*,!=2.7.*,!=2.8.*,!=2.9.*,<3.0.0dev,>=1.34.0->google-api-core[grpc]!=2.0.*,!=2.1.*,!=2.10.*,!=2.2.*,!=2.3.*,!=2.4.*,!=2.5.*,!=2.6.*,!=2.7.*,!=2.8.*,!=2.9.*,<3.0.0dev,>=1.34.0->google-ai-generativelanguage==0.1.0->google-generativeai) (5.3.3)\n",
      "Requirement already satisfied: pyasn1-modules>=0.2.1 in ./venv/lib/python3.8/site-packages (from google-auth<3.0.dev0,>=2.14.1->google-api-core!=2.0.*,!=2.1.*,!=2.10.*,!=2.2.*,!=2.3.*,!=2.4.*,!=2.5.*,!=2.6.*,!=2.7.*,!=2.8.*,!=2.9.*,<3.0.0dev,>=1.34.0->google-api-core[grpc]!=2.0.*,!=2.1.*,!=2.10.*,!=2.2.*,!=2.3.*,!=2.4.*,!=2.5.*,!=2.6.*,!=2.7.*,!=2.8.*,!=2.9.*,<3.0.0dev,>=1.34.0->google-ai-generativelanguage==0.1.0->google-generativeai) (0.4.0)\n",
      "Requirement already satisfied: rsa<5,>=3.1.4 in ./venv/lib/python3.8/site-packages (from google-auth<3.0.dev0,>=2.14.1->google-api-core!=2.0.*,!=2.1.*,!=2.10.*,!=2.2.*,!=2.3.*,!=2.4.*,!=2.5.*,!=2.6.*,!=2.7.*,!=2.8.*,!=2.9.*,<3.0.0dev,>=1.34.0->google-api-core[grpc]!=2.0.*,!=2.1.*,!=2.10.*,!=2.2.*,!=2.3.*,!=2.4.*,!=2.5.*,!=2.6.*,!=2.7.*,!=2.8.*,!=2.9.*,<3.0.0dev,>=1.34.0->google-ai-generativelanguage==0.1.0->google-generativeai) (4.9)\n",
      "Requirement already satisfied: pyasn1<0.7.0,>=0.4.6 in ./venv/lib/python3.8/site-packages (from pyasn1-modules>=0.2.1->google-auth<3.0.dev0,>=2.14.1->google-api-core!=2.0.*,!=2.1.*,!=2.10.*,!=2.2.*,!=2.3.*,!=2.4.*,!=2.5.*,!=2.6.*,!=2.7.*,!=2.8.*,!=2.9.*,<3.0.0dev,>=1.34.0->google-api-core[grpc]!=2.0.*,!=2.1.*,!=2.10.*,!=2.2.*,!=2.3.*,!=2.4.*,!=2.5.*,!=2.6.*,!=2.7.*,!=2.8.*,!=2.9.*,<3.0.0dev,>=1.34.0->google-ai-generativelanguage==0.1.0->google-generativeai) (0.6.0)\n"
     ]
    }
   ],
   "source": [
    "! pip3 install --upgrade pip\n",
    "! pip install -U langchain openai psycopg2-binary langchain_experimental langchain-openai"
   ]
  },
  {
   "cell_type": "code",
   "execution_count": 1,
   "id": "3680dc0a-f2e7-44b0-ae84-9bfe3a64f078",
   "metadata": {},
   "outputs": [],
   "source": [
    "from langchain import SQLDatabase\n",
    "from langchain_openai import ChatOpenAI\n",
    "from langchain_experimental.sql import SQLDatabaseChain\n",
    "import os\n",
    "import csv\n",
    "import psycopg2"
   ]
  },
  {
   "cell_type": "code",
   "execution_count": 2,
   "id": "72f59c0c-4b85-47d6-877e-dcf441bd02a8",
   "metadata": {},
   "outputs": [],
   "source": [
    "DB_USERNAME = os.environ.get(\"DB_USERNAME\")\n",
    "DB_PASSWORD = os.environ.get(\"DB_PASSWORD\")\n",
    "DB_HOST = os.environ.get(\"DB_HOST\")\n",
    "DB_PORT = os.environ.get(\"DB_PORT\")\n",
    "DB_NAME = os.environ.get(\"DB_NAME\")\n",
    "OPENAI_API_KEY = os.environ.get(\"OPENAI_API_KEY\")\n",
    "GPT_MODEL = \"gpt-3.5-turbo-0125\""
   ]
  },
  {
   "cell_type": "markdown",
   "id": "dd464a01-d6f0-421c-af65-664663290873",
   "metadata": {},
   "source": [
    "## Setup Database\n",
    "https://blog.devart.com/configure-postgresql-to-allow-remote-connection.html\n",
    "\n",
    "```bash\n",
    "sudo apt install postgresql\n",
    "sudo -i -u postgres\n",
    "createdb <db name>\n",
    "createuser --interactive --pwprompt <username>\n",
    "psql\n",
    "GRANT ALL PRIVILEGES ON DATABASE <db name> TO <username>;\n",
    "\\q\n",
    "exit\n",
    "sudo nano /etc/postgresql/12/main/pg_hba.conf\n",
    "sudo systemctl restart postgresql\n",
    "psql -U <username> -d <db name>\n",
    "```\n",
    "\n",
    "## Create tables\n",
    "```sql\n",
    "CREATE TABLE travel_category (\n",
    "    category_id INTEGER PRIMARY KEY,\n",
    "    main_category VARCHAR(100) NOT NULL,\n",
    "    category VARCHAR(100) NOT NULL,\n",
    "    sub_category VARCHAR(100) NOT NULL,\n",
    "    emission_factor DOUBLE PRECISION NOT NULL,\n",
    "    transaction_unit VARCHAR(100) NOT NULL\n",
    ");\n",
    "```\n",
    "```sql\n",
    "CREATE TABLE employee (\n",
    "    employee_id INTEGER PRIMARY KEY,\n",
    "    title VARCHAR(100) NOT NULL,\n",
    "    department VARCHAR(100) NOT NULL\n",
    ");\n",
    "```\n",
    "```sql\n",
    "CREATE TABLE travel (\n",
    "    travel_id SERIAL PRIMARY KEY,\n",
    "    source VARCHAR(100) NOT NULL,\n",
    "    destination VARCHAR(100) NOT NULL,\n",
    "    transaction_value DOUBLE PRECISION NOT NULL,\n",
    "    cost DOUBLE PRECISION NOT NULL,\n",
    "    date DATE NOT NULL,\n",
    "    category_id INTEGER REFERENCES travel_category(category_id) ON DELETE CASCADE,\n",
    "    employee_id INTEGER REFERENCES employee(employee_id) ON DELETE CASCADE,\n",
    "    transaction_unit VARCHAR(100) NOT NULL\n",
    ");\n",
    "```\n",
    "```sql\n",
    "CREATE TABLE date (\n",
    "    date_id VARCHAR(100) PRIMARY KEY,\n",
    "    quarter INTEGER NOT NULL,\n",
    "    month INTEGER NOT NULL,\n",
    "    year INTEGER NOT NULL\n",
    ");\n",
    "```"
   ]
  },
  {
   "cell_type": "markdown",
   "id": "60fe34a9-6cb1-437e-81ca-8c2afa28035d",
   "metadata": {},
   "source": [
    "## Load the data"
   ]
  },
  {
   "cell_type": "code",
   "execution_count": 3,
   "id": "8f6d6a13-1769-46eb-a07d-4afd10403bd8",
   "metadata": {},
   "outputs": [],
   "source": [
    "conn = psycopg2.connect(\n",
    "    dbname=DB_NAME, user=DB_USERNAME, password=DB_PASSWORD, host=DB_HOST\n",
    ")\n",
    "\n",
    "cursor = conn.cursor()"
   ]
  },
  {
   "cell_type": "code",
   "execution_count": 6,
   "id": "20d6cfd2-0d58-4ff8-9671-7aaad33a9e51",
   "metadata": {},
   "outputs": [],
   "source": [
    "def create_table(table_query):\n",
    "    cursor.execute(table_query)\n",
    "    conn.commit()\n",
    "    print(f\"Table creation successfully.\")\n",
    "\n",
    "\n",
    "def load_data(csv_file, table_name):\n",
    "    with open(csv_file, \"r\", newline=\"\") as file:\n",
    "        reader = csv.reader(file)\n",
    "        next(reader)\n",
    "        for row in reader:\n",
    "            try:\n",
    "                placeholders = \",\".join([\"%s\"] * len(row))\n",
    "                sql = f\"INSERT INTO {table_name} VALUES ({placeholders})\"\n",
    "                cursor.execute(sql, row)\n",
    "            except psycopg2.Error as e:\n",
    "                conn.rollback()\n",
    "                print(f\"Error inserting row: {e}\")\n",
    "                continue\n",
    "    conn.commit()\n",
    "    print(f\"Data loaded into {table_name} table successfully.\")"
   ]
  },
  {
   "cell_type": "code",
   "execution_count": 7,
   "id": "05bbc3ae",
   "metadata": {},
   "outputs": [],
   "source": [
    "create_travel_category_table_query = \"\"\"\n",
    "    CREATE TABLE travel_category (\n",
    "        category_id INTEGER PRIMARY KEY,\n",
    "        main_category VARCHAR(100) NOT NULL,\n",
    "        category VARCHAR(100) NOT NULL,\n",
    "        sub_category VARCHAR(100) NOT NULL,\n",
    "        emission_factor DOUBLE PRECISION NOT NULL,\n",
    "        transaction_unit VARCHAR(100) NOT NULL\n",
    "    );\n",
    "\"\"\"\n",
    "\n",
    "create_employee_table_query = \"\"\"\n",
    "    CREATE TABLE employee (\n",
    "        employee_id INTEGER PRIMARY KEY,\n",
    "        title VARCHAR(100) NOT NULL,\n",
    "        department VARCHAR(100) NOT NULL\n",
    "    );\n",
    "\"\"\"\n",
    "\n",
    "create_travel_table_query = \"\"\"\n",
    "    CREATE TABLE travel (\n",
    "        travel_id SERIAL PRIMARY KEY,\n",
    "        source VARCHAR(100) NOT NULL,\n",
    "        destination VARCHAR(100) NOT NULL,\n",
    "        transaction_value DOUBLE PRECISION NOT NULL,\n",
    "        cost DOUBLE PRECISION NOT NULL,\n",
    "        date DATE NOT NULL,\n",
    "        category_id INTEGER REFERENCES travel_category(category_id) ON DELETE CASCADE,\n",
    "        employee_id INTEGER REFERENCES employee(employee_id) ON DELETE CASCADE,\n",
    "        transaction_unit VARCHAR(100) NOT NULL\n",
    "    );\n",
    "\"\"\""
   ]
  },
  {
   "cell_type": "code",
   "execution_count": 8,
   "id": "ff6f9d55-9ea0-47ee-866a-d144381c275c",
   "metadata": {},
   "outputs": [
    {
     "name": "stdout",
     "output_type": "stream",
     "text": [
      "Table creation successfully.\n",
      "Table creation successfully.\n",
      "Table creation successfully.\n",
      "Data loaded into employee table successfully.\n",
      "Data loaded into travel_category table successfully.\n",
      "Data loaded into travel table successfully.\n"
     ]
    }
   ],
   "source": [
    "create_table(create_travel_category_table_query)\n",
    "create_table(create_employee_table_query)\n",
    "create_table(create_travel_table_query)\n",
    "\n",
    "load_data(\"employee.csv\", \"employee\")\n",
    "load_data(\"travel_category.csv\", \"travel_category\")\n",
    "load_data(\"travel.csv\", \"travel\")"
   ]
  },
  {
   "cell_type": "code",
   "execution_count": 9,
   "id": "5372f13a-8d6e-43e7-a792-1b9c56dae2f5",
   "metadata": {},
   "outputs": [],
   "source": [
    "cursor.close()\n",
    "conn.close()"
   ]
  },
  {
   "cell_type": "markdown",
   "id": "d79b79b7-d1d0-4a6b-be84-1e5242e94dbb",
   "metadata": {},
   "source": [
    "## Setup LLM"
   ]
  },
  {
   "cell_type": "code",
   "execution_count": 10,
   "id": "49e747a0-a2d5-4c96-b9e6-51be6b4df252",
   "metadata": {},
   "outputs": [
    {
     "name": "stderr",
     "output_type": "stream",
     "text": [
      "/Users/noah/anaconda3/lib/python3.11/site-packages/langchain_experimental/sql/base.py:77: UserWarning: Directly instantiating an SQLDatabaseChain with an llm is deprecated. Please instantiate with llm_chain argument or using the from_llm class method.\n",
      "  warnings.warn(\n"
     ]
    }
   ],
   "source": [
    "pg_uri = (\n",
    "    f\"postgresql+psycopg2://{DB_USERNAME}:{DB_PASSWORD}@{DB_HOST}:{DB_PORT}/{DB_NAME}\"\n",
    ")\n",
    "db = SQLDatabase.from_uri(pg_uri)\n",
    "llm = ChatOpenAI(temperature=0, openai_api_key=OPENAI_API_KEY, model_name=GPT_MODEL)\n",
    "db_chain = SQLDatabaseChain(llm=llm, database=db, verbose=True, top_k=3)"
   ]
  },
  {
   "cell_type": "code",
   "execution_count": 11,
   "id": "e283c4bc-841d-42b8-badc-599d07b1281d",
   "metadata": {},
   "outputs": [],
   "source": [
    "PROMPT = \"\"\" \n",
    "Given an input question, first create a syntactically correct Postgresql query without ```sql run,  \n",
    "then look at the results of the query, inerpret th results and return an answer.  \n",
    "The question: {question}\n",
    "\"\"\""
   ]
  },
  {
   "cell_type": "markdown",
   "id": "5f07be0d-3d21-4776-929d-6ea71b0def8e",
   "metadata": {},
   "source": [
    "## Run a query"
   ]
  },
  {
   "cell_type": "code",
   "execution_count": 12,
   "id": "e3f1d095-3f77-46a5-8cf4-56de710e4322",
   "metadata": {},
   "outputs": [
    {
     "name": "stderr",
     "output_type": "stream",
     "text": [
      "/Users/noah/anaconda3/lib/python3.11/site-packages/langchain_core/_api/deprecation.py:117: LangChainDeprecationWarning: The function `run` was deprecated in LangChain 0.1.0 and will be removed in 0.2.0. Use invoke instead.\n",
      "  warn_deprecated(\n"
     ]
    },
    {
     "name": "stdout",
     "output_type": "stream",
     "text": [
      "\n",
      "\n",
      "\u001b[1m> Entering new SQLDatabaseChain chain...\u001b[0m\n",
      " \n",
      "Given an input question, first create a syntactically correct Postgresql query without ```sql run,  \n",
      "then look at the results of the query and return the answer.  \n",
      "The question: what is the average carbo emission for 2023?\n",
      "\n",
      "SQLQuery:\u001b[32;1m\u001b[1;3mSELECT AVG(tc.emission_factor) AS average_emission\n",
      "FROM travel_category tc\n",
      "JOIN travel t ON tc.category_id = t.category_id\n",
      "WHERE t.date >= '2023-01-01' AND t.date <= '2023-12-31';\u001b[0m\n",
      "SQLResult: \u001b[33;1m\u001b[1;3m[(0.4009302325581428,)]\u001b[0m\n",
      "Answer:\u001b[32;1m\u001b[1;3mThe average carbon emission for 2023 is approximately 0.4009.\u001b[0m\n",
      "\u001b[1m> Finished chain.\u001b[0m\n"
     ]
    }
   ],
   "source": [
    "question = \"what is the average carbo emission for 2023?\"\n",
    "# response = db_chain.run(question) # instead if you don't have a prompt\n",
    "response = db_chain.run(PROMPT.format(question=question))"
   ]
  },
  {
   "cell_type": "code",
   "execution_count": 13,
   "id": "6236fdd7-b984-4478-b1ca-43851b19c10a",
   "metadata": {},
   "outputs": [
    {
     "data": {
      "text/plain": [
       "'The average carbon emission for 2023 is approximately 0.4009.'"
      ]
     },
     "execution_count": 13,
     "metadata": {},
     "output_type": "execute_result"
    }
   ],
   "source": [
    "response"
   ]
  }
 ],
 "metadata": {
  "kernelspec": {
   "display_name": "Python 3 (ipykernel)",
   "language": "python",
   "name": "python3"
  },
  "language_info": {
   "codemirror_mode": {
    "name": "ipython",
    "version": 3
   },
   "file_extension": ".py",
   "mimetype": "text/x-python",
   "name": "python",
   "nbconvert_exporter": "python",
   "pygments_lexer": "ipython3",
   "version": "3.11.5"
  }
 },
 "nbformat": 4,
 "nbformat_minor": 5
}
